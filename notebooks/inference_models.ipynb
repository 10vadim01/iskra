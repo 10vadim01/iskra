{
 "cells": [
  {
   "cell_type": "markdown",
   "metadata": {},
   "source": [
    "## ASR"
   ]
  },
  {
   "cell_type": "code",
   "execution_count": null,
   "metadata": {},
   "outputs": [],
   "source": [
    "import torch\n",
    "from transformers import AutoModelForSpeechSeq2Seq, AutoProcessor, pipeline\n",
    "\n",
    "\n",
    "device = \"cuda:0\"\n",
    "\n",
    "model_id = \"/home/vapa/projects/iskra/models/asr/whisper-large-v3\"\n",
    "\n",
    "model = AutoModelForSpeechSeq2Seq.from_pretrained(\n",
    "    model_id, torch_dtype=torch.float16, use_safetensors=True\n",
    ")\n",
    "model.to(device)\n",
    "\n",
    "processor = AutoProcessor.from_pretrained(model_id)\n",
    "\n",
    "pipe = pipeline(\n",
    "    \"automatic-speech-recognition\",\n",
    "    model=model,\n",
    "    tokenizer=processor.tokenizer,\n",
    "    feature_extractor=processor.feature_extractor,\n",
    "    torch_dtype=torch.float16,\n",
    "    device=device,\n",
    ")"
   ]
  },
  {
   "cell_type": "code",
   "execution_count": null,
   "metadata": {},
   "outputs": [],
   "source": [
    "sample = \"/home/vapa/projects/iskra/received_audio/test.wav\"\n",
    "\n",
    "result = pipe(sample)\n",
    "print(result[\"text\"])"
   ]
  },
  {
   "cell_type": "markdown",
   "metadata": {},
   "source": [
    "## LLM"
   ]
  },
  {
   "cell_type": "code",
   "execution_count": 5,
   "metadata": {},
   "outputs": [
    {
     "data": {
      "text/plain": [
       "{'object': 'list',\n",
       " 'data': [{'id': '/home/vapa/projects/iskra/models/llms/vikhr-12b/',\n",
       "   'object': 'model',\n",
       "   'created': 1730804184,\n",
       "   'owned_by': 'vllm',\n",
       "   'root': '/home/vapa/projects/iskra/models/llms/vikhr-12b/',\n",
       "   'parent': None,\n",
       "   'max_model_len': 4000,\n",
       "   'permission': [{'id': 'modelperm-5a002d3547c940ffa0f346418963ed73',\n",
       "     'object': 'model_permission',\n",
       "     'created': 1730804184,\n",
       "     'allow_create_engine': False,\n",
       "     'allow_sampling': True,\n",
       "     'allow_logprobs': True,\n",
       "     'allow_search_indices': False,\n",
       "     'allow_view': True,\n",
       "     'allow_fine_tuning': False,\n",
       "     'organization': '*',\n",
       "     'group': None,\n",
       "     'is_blocking': False}]}]}"
      ]
     },
     "execution_count": 5,
     "metadata": {},
     "output_type": "execute_result"
    }
   ],
   "source": [
    "import requests\n",
    "\n",
    "response = requests.get(\"http://0.0.0.0:8000/v1/models\")\n",
    "available_models = response.json()\n",
    "available_models"
   ]
  },
  {
   "cell_type": "code",
   "execution_count": 7,
   "metadata": {},
   "outputs": [
    {
     "data": {
      "text/plain": [
       "'Привет! У меня всё отлично, спасибо, что спросили. Я здесь, чтобы помочь вам. Как я могу помочь вам сегодня?'"
      ]
     },
     "execution_count": 7,
     "metadata": {},
     "output_type": "execute_result"
    }
   ],
   "source": [
    "import requests\n",
    "\n",
    "payload = {\n",
    "        \"model\": \"/home/vapa/projects/iskra/models/llms/vikhr-12b/\",\n",
    "        \"messages\": [\n",
    "            {\"role\": \"system\", \"content\": \"Ты виртуальный помощник, который помогает пользователю с его проблемами и отвечает на вопросы.\"},\n",
    "            {\"role\": \"user\", \"content\": \"Привет, как дела?\"}\n",
    "        ]\n",
    "    }\n",
    "\n",
    "response = requests.post(\"http://0.0.0.0:8000/v1/chat/completions\", json=payload)\n",
    "generated_text = response.json()[\"choices\"][0][\"message\"][\"content\"]\n",
    "generated_text   "
   ]
  },
  {
   "cell_type": "markdown",
   "metadata": {},
   "source": [
    "# TTS"
   ]
  },
  {
   "cell_type": "code",
   "execution_count": 47,
   "metadata": {},
   "outputs": [],
   "source": [
    "import requests\n",
    "\n",
    "url = \"http://localhost:5002/api/tts\"\n",
    "headers = {\n",
    "    \"text\": \"Hello, world you freak man sand\",\n",
    "}\n",
    "\n",
    "response = requests.post(url, headers=headers)\n",
    "\n",
    "with open(\"/home/vapa/projects/iskra/data/tts/responses/output.wav\", \"wb\") as f:\n",
    "    f.write(response.content)"
   ]
  }
 ],
 "metadata": {
  "kernelspec": {
   "display_name": "iskra",
   "language": "python",
   "name": "python3"
  },
  "language_info": {
   "codemirror_mode": {
    "name": "ipython",
    "version": 3
   },
   "file_extension": ".py",
   "mimetype": "text/x-python",
   "name": "python",
   "nbconvert_exporter": "python",
   "pygments_lexer": "ipython3",
   "version": "3.12.7"
  }
 },
 "nbformat": 4,
 "nbformat_minor": 2
}
