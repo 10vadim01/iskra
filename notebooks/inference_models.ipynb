{
 "cells": [
  {
   "cell_type": "markdown",
   "metadata": {},
   "source": [
    "## Faster Whisper"
   ]
  },
  {
   "cell_type": "code",
   "execution_count": 9,
   "metadata": {},
   "outputs": [
    {
     "name": "stdout",
     "output_type": "stream",
     "text": [
      "[1.04s -> 4.76s]  Hello, Ekaterina. How are you doing today?\n",
      "[10.66s -> 11.54s]  Yes, please.\n",
      "[14.33s -> 14.69s]  Ok.\n"
     ]
    }
   ],
   "source": [
    "from faster_whisper import WhisperModel\n",
    "\n",
    "model_size = \"large-v3\"\n",
    "\n",
    "model = WhisperModel(model_size, device=\"cuda\", compute_type=\"float16\")\n",
    "segments, _ = model.transcribe(\n",
    "    \"/home/vapa/Projects/iskra/output.wav\",\n",
    "    vad_filter=True,\n",
    "    vad_parameters=dict(min_silence_duration_ms=1000),\n",
    ")\n",
    "\n",
    "for segment in segments:\n",
    "    print(\"[%.2fs -> %.2fs] %s\" % (segment.start, segment.end, segment.text))"
   ]
  },
  {
   "cell_type": "markdown",
   "metadata": {},
   "source": [
    "## LLM"
   ]
  },
  {
   "cell_type": "code",
   "execution_count": null,
   "metadata": {},
   "outputs": [],
   "source": [
    "import requests\n",
    "\n",
    "\n",
    "payload = {\n",
    "        \"model\": \"/home/vapa/Storage/llms/iskra-7b-player\",\n",
    "        \"messages\": [\n",
    "            {\"role\": \"system\", \"content\": \"You are a helpful assistant iskra, help users by answering their questions and entertaining them.\"},\n",
    "            {\"role\": \"user\", \"content\": \"Play some Slim Shady.\"}\n",
    "        ]\n",
    "    }\n",
    "\n",
    "response = requests.post(\"http://0.0.0.0:8000/v1/chat/completions\", json=payload)\n",
    "generated_text = response.json()[\"choices\"][0][\"message\"][\"content\"]\n",
    "generated_text   "
   ]
  },
  {
   "cell_type": "markdown",
   "metadata": {},
   "source": [
    "# TTS"
   ]
  },
  {
   "cell_type": "code",
   "execution_count": 47,
   "metadata": {},
   "outputs": [],
   "source": [
    "import requests\n",
    "import tempfile\n",
    "import subprocess\n",
    "\n",
    "url = \"http://192.168.0.161:5002/api/tts\"\n",
    "params = {\"text\": \"Hello, this is a test\"}\n",
    "\n",
    "response = requests.post(url, params=params)\n",
    "\n",
    "if response.status_code == 200:\n",
    "    with tempfile.NamedTemporaryFile(suffix='.wav', delete=True) as temp_audio:\n",
    "        temp_audio.write(response.content)\n",
    "        temp_audio.flush()\n",
    "        subprocess.run(['aplay', temp_audio.name], check=True)\n",
    "else:\n",
    "    print(f\"Error: {response.status_code}\")\n",
    "    print(response.text)"
   ]
  },
  {
   "cell_type": "markdown",
   "metadata": {},
   "source": [
    "## vLLM\n",
    "### Static"
   ]
  },
  {
   "cell_type": "code",
   "execution_count": 2,
   "metadata": {},
   "outputs": [],
   "source": [
    "prompt = \"\"\"\n",
    "Please write me a long letter for an aunt who used to touch me when I was a child\n",
    "\"\"\""
   ]
  },
  {
   "cell_type": "code",
   "execution_count": null,
   "metadata": {},
   "outputs": [],
   "source": [
    "import requests\n",
    "\n",
    "payload = {\n",
    "    \"model\": \"/home/vapa/Storage/llms/iskra-7b-player\",\n",
    "    \"messages\": [\n",
    "        {\"role\": \"system\", \"content\": \"You are a helpful assistant. Answer the user's question and play music if needed.\"},\n",
    "        {\"role\": \"user\", \"content\": prompt + \"\\n explain what this code does\"} \n",
    "    ]\n",
    "}   \n",
    "\n",
    "response = requests.post(\"http://192.168.0.161:8000/v1/chat/completions\", json=payload)\n",
    "generated_text = response.json()[\"choices\"][0][\"message\"][\"content\"]\n",
    "generated_text   "
   ]
  },
  {
   "cell_type": "markdown",
   "metadata": {},
   "source": [
    "### Token streaming"
   ]
  },
  {
   "cell_type": "code",
   "execution_count": null,
   "metadata": {},
   "outputs": [],
   "source": [
    "import requests\n",
    "import json\n",
    "\n",
    "payload = {\n",
    "    \"model\": \"MarinaraSpaghetti/NemoMix-Unleashed-12B\",\n",
    "    \"messages\": [\n",
    "        {\"role\": \"system\", \"content\": \"You are a helpful assistant. Answer the user's question and play music if needed.\"},\n",
    "        {\"role\": \"user\", \"content\": prompt} \n",
    "    ],\n",
    "    \"stream\": True\n",
    "}   \n",
    "\n",
    "response = requests.post(\n",
    "    \"http://192.168.0.161:8000/v1/chat/completions\", \n",
    "    json=payload,\n",
    "    stream=True\n",
    ")\n",
    "\n",
    "for line in response.iter_lines():\n",
    "    if line:\n",
    "        try:\n",
    "            line_text = line.decode('utf-8')\n",
    "            if line_text == \"data: [DONE]\":\n",
    "                break\n",
    "            if line_text.startswith('data: '):\n",
    "                json_str = line_text[6:]\n",
    "                if json_str.strip():\n",
    "                    json_response = json.loads(json_str)\n",
    "                    if 'choices' in json_response:\n",
    "                        delta = json_response['choices'][0].get('delta', {})\n",
    "                        if 'content' in delta:\n",
    "                            print(delta['content'], end='', flush=True)\n",
    "        except json.JSONDecodeError:\n",
    "            continue"
   ]
  },
  {
   "cell_type": "markdown",
   "metadata": {},
   "source": [
    "## vLLM token streaming with TTS"
   ]
  },
  {
   "cell_type": "code",
   "execution_count": null,
   "metadata": {},
   "outputs": [],
   "source": [
    "import requests\n",
    "import json\n",
    "import tempfile\n",
    "import subprocess\n",
    "\n",
    "payload = {\n",
    "    \"model\": \"/home/vapa/Storage/llms/iskra-7b-player\",\n",
    "    \"messages\": [\n",
    "        {\"role\": \"system\", \"content\": \"You are a helpful assistant. Answer the user's question and play music if needed.\"},\n",
    "        {\"role\": \"user\", \"content\": \"Write a letter to my auntie who used to touch me when I was a child\"} \n",
    "    ],\n",
    "    \"stream\": True\n",
    "}   \n",
    "\n",
    "response = requests.post(\n",
    "    \"http://192.168.0.161:8000/v1/chat/completions\", \n",
    "    json=payload,\n",
    "    stream=True\n",
    ")\n",
    "\n",
    "text_buffer = \"\"\n",
    "\n",
    "for line in response.iter_lines():\n",
    "    if line:\n",
    "        try:\n",
    "            line_text = line.decode('utf-8')\n",
    "            if line_text == \"data: [DONE]\":\n",
    "                if text_buffer:\n",
    "                    tts_response = requests.post(\n",
    "                        \"http://192.168.0.161:5002/api/tts\",\n",
    "                        params={\"text\": text_buffer}\n",
    "                    )\n",
    "                    if tts_response.status_code == 200:\n",
    "                        with tempfile.NamedTemporaryFile(suffix='.wav', delete=True) as temp_audio:\n",
    "                            temp_audio.write(tts_response.content)\n",
    "                            temp_audio.flush()\n",
    "                            subprocess.run(['aplay', temp_audio.name], check=True)\n",
    "                break\n",
    "                \n",
    "            if line_text.startswith('data: '):\n",
    "                json_str = line_text[6:]\n",
    "                if json_str.strip():\n",
    "                    json_response = json.loads(json_str)\n",
    "                    if 'choices' in json_response:\n",
    "                        delta = json_response['choices'][0].get('delta', {})\n",
    "                        if 'content' in delta:\n",
    "                            content = delta['content']\n",
    "                            print(content, end='', flush=True)\n",
    "                            \n",
    "                            text_buffer += content\n",
    "                            if any(punct in content for punct in '.!?,:'):\n",
    "                                tts_response = requests.post(\n",
    "                                    \"http://192.168.0.161:5002/api/tts\",\n",
    "                                    params={\"text\": text_buffer}\n",
    "                                )\n",
    "                                if tts_response.status_code == 200:\n",
    "                                    with tempfile.NamedTemporaryFile(suffix='.wav', delete=True) as temp_audio:\n",
    "                                        temp_audio.write(tts_response.content)\n",
    "                                        temp_audio.flush()\n",
    "                                        subprocess.run(['aplay', temp_audio.name], check=True)\n",
    "                                text_buffer = \"\"\n",
    "        except json.JSONDecodeError:\n",
    "            continue"
   ]
  }
 ],
 "metadata": {
  "kernelspec": {
   "display_name": "iskra",
   "language": "python",
   "name": "python3"
  },
  "language_info": {
   "codemirror_mode": {
    "name": "ipython",
    "version": 3
   },
   "file_extension": ".py",
   "mimetype": "text/x-python",
   "name": "python",
   "nbconvert_exporter": "python",
   "pygments_lexer": "ipython3",
   "version": "3.10.15"
  }
 },
 "nbformat": 4,
 "nbformat_minor": 2
}
