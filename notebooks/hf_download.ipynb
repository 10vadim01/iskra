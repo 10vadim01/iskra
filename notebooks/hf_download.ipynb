{
 "cells": [
  {
   "cell_type": "code",
   "execution_count": 2,
   "metadata": {},
   "outputs": [
    {
     "data": {
      "application/vnd.jupyter.widget-view+json": {
       "model_id": "6b5424352b014a759236d2a4bb5575a3",
       "version_major": 2,
       "version_minor": 0
      },
      "text/plain": [
       "Fetching 18 files:   0%|          | 0/18 [00:00<?, ?it/s]"
      ]
     },
     "metadata": {},
     "output_type": "display_data"
    },
    {
     "data": {
      "text/plain": [
       "'/home/vapa/projects/iskra/models/tts/xtts-v2'"
      ]
     },
     "execution_count": 2,
     "metadata": {},
     "output_type": "execute_result"
    }
   ],
   "source": [
    "from huggingface_hub import snapshot_download\n",
    "\n",
    "model_repo_id = \"coqui/XTTS-v2\"\n",
    "\n",
    "snapshot_download(repo_id=model_repo_id, local_dir=\"/home/vapa/projects/iskra/models/tts/xtts-v2\", local_dir_use_symlinks=False, ignore_patterns=[\"*.bin\"])\n"
   ]
  }
 ],
 "metadata": {
  "kernelspec": {
   "display_name": "iskra",
   "language": "python",
   "name": "python3"
  },
  "language_info": {
   "codemirror_mode": {
    "name": "ipython",
    "version": 3
   },
   "file_extension": ".py",
   "mimetype": "text/x-python",
   "name": "python",
   "nbconvert_exporter": "python",
   "pygments_lexer": "ipython3",
   "version": "3.10.15"
  }
 },
 "nbformat": 4,
 "nbformat_minor": 2
}
