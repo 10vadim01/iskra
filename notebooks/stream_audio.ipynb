{
 "cells": [
  {
   "cell_type": "code",
   "execution_count": null,
   "metadata": {},
   "outputs": [],
   "source": [
    "import alsaaudio\n",
    "import numpy as np\n",
    "import time\n",
    "\n",
    "# Audio stream constants\n",
    "CHANNELS = 1\n",
    "RATE = 44100\n",
    "CHUNK = 1024\n",
    "\n",
    "# Open the PCM device for capturing audio\n",
    "inp = alsaaudio.PCM(alsaaudio.PCM_CAPTURE, alsaaudio.PCM_NONBLOCK, device='hw:2,0')\n",
    "\n",
    "# Set attributes\n",
    "inp.setchannels(CHANNELS)\n",
    "inp.setrate(RATE)\n",
    "inp.setformat(alsaaudio.PCM_FORMAT_S16_LE)\n",
    "inp.setperiodsize(CHUNK)\n",
    "\n",
    "print(\"Starting continuous audio stream. Press Ctrl+C to stop.\")\n",
    "\n",
    "try:\n",
    "    while True:\n",
    "        # Read data from device\n",
    "        l, data = inp.read()\n",
    "        \n",
    "        if l:\n",
    "            # Convert audio data to numpy array\n",
    "            audio_data = np.frombuffer(data, dtype='<i2')\n",
    "            \n",
    "            # Calculate audio level (you can replace this with your own processing)\n",
    "            audio_level = np.abs(audio_data).mean()\n",
    "            \n",
    "            # Print audio level (as a simple visualization)\n",
    "            level_bar = '#' * int(audio_level / 100)\n",
    "            print(f\"\\rAudio Level: {level_bar.ljust(50)}\", end='', flush=True)\n",
    "        \n",
    "        time.sleep(0.001)  # Small sleep to prevent CPU overuse\n",
    "\n",
    "except KeyboardInterrupt:\n",
    "    print(\"\\nStopping the audio stream.\")\n",
    "\n",
    "except Exception as e:\n",
    "    print(f\"An error occurred: {e}\")\n",
    "\n",
    "finally:\n",
    "    # Close the PCM device\n",
    "    inp.close()\n",
    "\n",
    "print(\"Audio streaming stopped.\")"
   ]
  }
 ],
 "metadata": {
  "language_info": {
   "name": "python"
  }
 },
 "nbformat": 4,
 "nbformat_minor": 2
}
